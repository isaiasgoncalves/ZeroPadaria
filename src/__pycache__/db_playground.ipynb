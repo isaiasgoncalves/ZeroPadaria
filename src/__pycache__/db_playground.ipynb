{
 "cells": [
  {
   "cell_type": "markdown",
   "id": "1491e169",
   "metadata": {},
   "source": [
    "***Testando algumas funcionalidades do banco de dados e testando se as coisas funcionam***\n"
   ]
  },
  {
   "cell_type": "code",
   "execution_count": null,
   "id": "42667ed3",
   "metadata": {
    "vscode": {
     "languageId": "plaintext"
    }
   },
   "outputs": [],
   "source": []
  }
 ],
 "metadata": {
  "language_info": {
   "name": "python"
  }
 },
 "nbformat": 4,
 "nbformat_minor": 5
}
